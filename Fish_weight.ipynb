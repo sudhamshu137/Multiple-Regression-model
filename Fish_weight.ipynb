{
  "nbformat": 4,
  "nbformat_minor": 0,
  "metadata": {
    "colab": {
      "name": "Fish_weight.ipynb",
      "provenance": [],
      "collapsed_sections": [],
      "authorship_tag": "ABX9TyNdFE0ghn/d93p+GaTF0IvX",
      "include_colab_link": true
    },
    "kernelspec": {
      "name": "python3",
      "display_name": "Python 3"
    },
    "language_info": {
      "name": "python"
    }
  },
  "cells": [
    {
      "cell_type": "markdown",
      "metadata": {
        "id": "view-in-github",
        "colab_type": "text"
      },
      "source": [
        "<a href=\"https://colab.research.google.com/github/sudhamshu137/Multiple-Regression-model/blob/main/Fish_weight.ipynb\" target=\"_parent\"><img src=\"https://colab.research.google.com/assets/colab-badge.svg\" alt=\"Open In Colab\"/></a>"
      ]
    },
    {
      "cell_type": "code",
      "metadata": {
        "id": "7L_3U7sUgCbE"
      },
      "source": [
        "import numpy as np\n",
        "import matplotlib.pyplot as plt\n",
        "import pandas as pd"
      ],
      "execution_count": null,
      "outputs": []
    },
    {
      "cell_type": "code",
      "metadata": {
        "id": "LOHs9pFkgv0j"
      },
      "source": [
        "dataset = pd.read_csv('Fish.csv')\n",
        "x = dataset.iloc[:, :-1].values\n",
        "y = dataset.iloc[:, -1].values"
      ],
      "execution_count": null,
      "outputs": []
    },
    {
      "cell_type": "code",
      "metadata": {
        "id": "YcnAIxFvhSvc"
      },
      "source": [
        "from sklearn.compose import ColumnTransformer\n",
        "from sklearn.preprocessing import OneHotEncoder\n",
        "ct = ColumnTransformer([('encoder', OneHotEncoder(), [0])], remainder='passthrough')\n",
        "x = np.array(ct.fit_transform(x))"
      ],
      "execution_count": null,
      "outputs": []
    },
    {
      "cell_type": "code",
      "metadata": {
        "id": "ALISQGuamXfq"
      },
      "source": [
        "from sklearn.model_selection import train_test_split\n",
        "x_train, x_test, y_train, y_test = train_test_split(x, y, test_size=0.2, random_state=0)"
      ],
      "execution_count": null,
      "outputs": []
    },
    {
      "cell_type": "code",
      "metadata": {
        "colab": {
          "base_uri": "https://localhost:8080/"
        },
        "id": "gDh32rUhm4SI",
        "outputId": "de8b7dd1-2f8d-40dc-da66-33eeaaead8a0"
      },
      "source": [
        "from sklearn.linear_model import LinearRegression\n",
        "regressor = LinearRegression()\n",
        "regressor.fit(x_train, y_train)"
      ],
      "execution_count": null,
      "outputs": [
        {
          "output_type": "execute_result",
          "data": {
            "text/plain": [
              "LinearRegression(copy_X=True, fit_intercept=True, n_jobs=None, normalize=False)"
            ]
          },
          "metadata": {
            "tags": []
          },
          "execution_count": 26
        }
      ]
    },
    {
      "cell_type": "code",
      "metadata": {
        "colab": {
          "base_uri": "https://localhost:8080/"
        },
        "id": "1k-0uw-snLw6",
        "outputId": "64782ded-ea41-4c4f-f50a-e0b014d381e8"
      },
      "source": [
        "y_pred = regressor.predict(x_test)\n",
        "np.set_printoptions(precision=2)\n",
        "print(np.concatenate((y_pred.reshape(len(y_pred),1), y_test.reshape(len(y_test),1)),1))"
      ],
      "execution_count": null,
      "outputs": [
        {
          "output_type": "stream",
          "text": [
            "[[ 428.89  390.  ]\n",
            " [  98.08    0.  ]\n",
            " [ 216.68  170.  ]\n",
            " [ 208.67  160.  ]\n",
            " [ 657.24  556.  ]\n",
            " [ 876.39  900.  ]\n",
            " [ 665.98  800.  ]\n",
            " [ 407.27  300.  ]\n",
            " [ 965.65  975.  ]\n",
            " [ 146.62  115.  ]\n",
            " [ 255.16  200.  ]\n",
            " [ 561.64  456.  ]\n",
            " [ 765.68 1000.  ]\n",
            " [1012.38 1000.  ]\n",
            " [-118.73   60.  ]\n",
            " [  14.47   78.  ]\n",
            " [ 137.61  145.  ]\n",
            " [1155.54 1600.  ]\n",
            " [ 170.97  130.  ]\n",
            " [ 724.94  720.  ]\n",
            " [-128.49   55.  ]\n",
            " [ 525.46  390.  ]\n",
            " [ 175.35  120.  ]\n",
            " [1322.75 1650.  ]\n",
            " [ -23.09   90.  ]\n",
            " [ 475.44  450.  ]\n",
            " [ 719.97  700.  ]\n",
            " [ 280.95  270.  ]\n",
            " [ 885.12  850.  ]\n",
            " [ -16.63    9.7 ]\n",
            " [ 585.26  650.  ]\n",
            " [ 164.23  110.  ]]\n"
          ],
          "name": "stdout"
        }
      ]
    }
  ]
}